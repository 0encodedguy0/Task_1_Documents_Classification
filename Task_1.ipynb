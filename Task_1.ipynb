{
 "cells": [
  {
   "cell_type": "markdown",
   "metadata": {},
   "source": [
    "# Задание 1.1\n",
    "\n",
    "[Свертка списка](https://ru.wikipedia.org/wiki/%D0%A1%D0%B2%D1%91%D1%80%D1%82%D0%BA%D0%B0_%D1%81%D0%BF%D0%B8%D1%81%D0%BA%D0%B0) -  это обобщенная операция над списком, c помощью которой можно преобразовать список в единое значение. Например, рассмотрим реализации свертки слева и свертки справа (левоассоциативную свертку и правоассоциативную свертку):"
   ]
  },
  {
   "cell_type": "code",
   "execution_count": 1,
   "metadata": {
    "jupyter": {
     "outputs_hidden": true
    }
   },
   "outputs": [],
   "source": [
    "def foldl(f, x0, lst):\n",
    "    if not lst:\n",
    "        return x0\n",
    "    return foldl(f, f(x0, lst[0]), lst[1:])\n",
    "\n",
    "def foldr(f, x0, lst):\n",
    "    if not lst:\n",
    "        return x0\n",
    "    return f(lst[0], foldr(f, x0, lst[1:]))"
   ]
  },
  {
   "cell_type": "code",
   "execution_count": 2,
   "metadata": {},
   "outputs": [
    {
     "data": {
      "text/plain": [
       "6"
      ]
     },
     "execution_count": 2,
     "metadata": {},
     "output_type": "execute_result"
    }
   ],
   "source": [
    "#сумма\n",
    "foldl(lambda x, y: x + y, 0, [1, 2, 3])"
   ]
  },
  {
   "cell_type": "code",
   "execution_count": 3,
   "metadata": {},
   "outputs": [
    {
     "data": {
      "text/plain": [
       "'123'"
      ]
     },
     "execution_count": 3,
     "metadata": {},
     "output_type": "execute_result"
    }
   ],
   "source": [
    "#конкатенация\n",
    "foldl(lambda x, y: '{}{}'.format(x, y), '', [1, 2, 3])"
   ]
  },
  {
   "cell_type": "code",
   "execution_count": 4,
   "metadata": {},
   "outputs": [
    {
     "data": {
      "text/plain": [
       "(0.16666666666666666, 1.5)"
      ]
     },
     "execution_count": 4,
     "metadata": {},
     "output_type": "execute_result"
    }
   ],
   "source": [
    "f = lambda x, y: x / y\n",
    "foldl(f, 1, [1, 2, 3]), \\\n",
    "foldr(f, 1, [1, 2, 3])"
   ]
  },
  {
   "cell_type": "markdown",
   "metadata": {},
   "source": [
    "Задача: реализовать foldl через foldr и наоборот. Вместо многоточий нужно вставить выражения, которые бы привели к нужному результату. Модифицировать сам список нельзя. "
   ]
  },
  {
   "cell_type": "code",
   "execution_count": 5,
   "metadata": {
    "jupyter": {
     "outputs_hidden": true
    }
   },
   "outputs": [],
   "source": [
    "def foldl2(f, x0, lst):\n",
    "    return foldr(lambda x, y: lambda t: y(f(t, x)), lambda x: x, lst)(x0)"
   ]
  },
  {
   "cell_type": "code",
   "execution_count": 6,
   "metadata": {
    "jupyter": {
     "outputs_hidden": true
    }
   },
   "outputs": [],
   "source": [
    "def foldr2(f, x0, lst):\n",
    "    return foldl(lambda y, x: lambda t: y(f(x, t)), lambda x: x, lst)(x0)"
   ]
  },
  {
   "cell_type": "markdown",
   "metadata": {},
   "source": [
    "# Задание 1.2\n",
    "\n",
    "нужно написать функцию, которая принимает две строки и проверяет, входит ли хотя бы одна перестановка второй строки в первую. Например:\n",
    "\n",
    "> a = 'abcrotm'\n",
    "> \n",
    "> b = 'tro'\n",
    "\n",
    "функция def check_inv(a, b) вернет True, так как 'rot' содержится в 'abcrotm'. Нужно подумать как можно более оптимальный алгоритм и оценить его сложность. "
   ]
  },
  {
   "cell_type": "code",
   "execution_count": 12,
   "metadata": {
    "jupyter": {
     "outputs_hidden": true
    }
   },
   "outputs": [
    {
     "data": {
      "text/plain": [
       "True"
      ]
     },
     "execution_count": 12,
     "metadata": {},
     "output_type": "execute_result"
    }
   ],
   "source": [
    "def chars_range(str1,str2):\n",
    "    ord_range = range(ord(str1),ord(str2))\n",
    "    for number in ord_range:\n",
    "        yield chr(number)\n",
    "\n",
    "def check_inv(a, b):\n",
    "    b_chars = dict.fromkeys(chars_range('a','z'),0)\n",
    "    for char in b:\n",
    "        b_chars[char] +=1\n",
    "       \n",
    "    curr_chars = dict.fromkeys(chars_range('a','z'),0)\n",
    "    for char in a[:len(b)-1]:\n",
    "        curr_chars[char] += 1\n",
    "      \n",
    "    for i in range(len(b) - 1, len(a)):\n",
    "        curr_chars[a[i]] += 1\n",
    "        \n",
    "        if (curr_chars==b_chars):\n",
    "            return True\n",
    "        curr_chars[a[i-len(b)+1]] -=1\n",
    "    return False\n",
    "\n",
    "\n",
    "\n",
    "a = 'abcrotm'\n",
    "b = 'tro'\n",
    "check_inv(a, b)"
   ]
  },
  {
   "cell_type": "markdown",
   "metadata": {},
   "source": [
    "# Задание 1.3\n",
    "\n",
    "Реализовать бинарное дерево (класс Tree), в нём методы __repr__, __str__, __iter__ (итерация только по листьям)."
   ]
  },
  {
   "cell_type": "code",
   "execution_count": 8,
   "metadata": {},
   "outputs": [
    {
     "data": {
      "text/plain": [
       "True"
      ]
     },
     "execution_count": 8,
     "metadata": {},
     "output_type": "execute_result"
    }
   ],
   "source": [
    "class Tree:\n",
    "    def __init__(self, value=None, left=None, right=None):\n",
    "        self.left = left\n",
    "        self.right = right\n",
    "        self.value = value\n",
    "\n",
    "    def __iter__(self):\n",
    "        if not self.left and not self.right:\n",
    "            yield self.value\n",
    "        if self.left:\n",
    "            yield from self.left\n",
    "        if self.right:\n",
    "            yield from self.right\n",
    "\n",
    "    def __str__(self):\n",
    "        return f'{self.value}({self.left},{self.right})'.replace('None', '-').replace('(-,-)', '')\n",
    "\n",
    "    def __repr__(self):\n",
    "        return '{}({}, {}, {})'.format(self.__class__.__name__,\n",
    "                                       repr(self.value),\n",
    "                                       repr(self.left) if self.left else '-',\n",
    "                                       repr(self.right) if self.right else '-').replace(', -', '')\n",
    "    \n",
    "tree = Tree(0, Tree(1, Tree(3), Tree(4)),                             \n",
    "               Tree(2))\n",
    "\n",
    "list(tree) == [3, 4, 2]"
   ]
  },
  {
   "cell_type": "markdown",
   "metadata": {},
   "source": [
    "# Задание 1.4\n",
    "\n",
    "Реализовать простейший калькулятор математических выражений:\n",
    "- только целые числа\n",
    "- **+**, **\\-**, **\\***, **\\**\n",
    "- скобки\n",
    "\n",
    "**Можно использовать регулярные выражения**"
   ]
  },
  {
   "cell_type": "code",
   "execution_count": 9,
   "metadata": {},
   "outputs": [
    {
     "data": {
      "text/plain": [
       "True"
      ]
     },
     "execution_count": 9,
     "metadata": {},
     "output_type": "execute_result"
    }
   ],
   "source": [
    "def calc(expr):\n",
    "    i = 0\n",
    "    mb = False\n",
    "    numbers = []\n",
    "    other = []\n",
    "    num = ''\n",
    "    digits = ['1', '2', '3', '4', '5', '6', '7', '8', '9', '0']\n",
    "    signs = ['+', '-', '*', '/', '(', ')']\n",
    "    priorities = {'(': 0, ')': 0, '-': 1, '+': 1, '*': 2, '/': 2}\n",
    "    if expr[0] == '-':\n",
    "        mb = True\n",
    "        i += 1\n",
    "    while i < len(expr):\n",
    "        if expr[i] in digits:\n",
    "            num += expr[i]\n",
    "        if i == len(expr)-1:\n",
    "            numbers.append(int(num))\n",
    "        if (expr[i] == ' ' and num != '') or (expr[i] == ')' and num != ''):\n",
    "            if len(numbers) == 0 and mb == True:\n",
    "                numbers.append((-1) * int(num))\n",
    "                num = ''\n",
    "            else:\n",
    "                numbers.append(int(num))\n",
    "                num = ''\n",
    "        if expr[i] in signs:\n",
    "            if len(other) == 0:\n",
    "                other.append(expr[i])\n",
    "            else:\n",
    "                if expr[i] != '(' and expr[i] != ')':\n",
    "                    if priorities[expr[i]] > priorities[other[-1]]:\n",
    "                        other.append(expr[i])\n",
    "                    else:\n",
    "                        if other[-1] == '*':\n",
    "                            new_num = numbers[-2] * numbers[-1]\n",
    "                            numbers.pop(-1)\n",
    "                            numbers.pop(-1)\n",
    "                            other.pop(-1)\n",
    "                            numbers.append(new_num)\n",
    "                            new_num = 0\n",
    "                            i -= 1\n",
    "                        elif other[-1] == '/':\n",
    "                            new_num = numbers[-2] / numbers[-1]\n",
    "                            numbers.pop(-1)\n",
    "                            numbers.pop(-1)\n",
    "                            other.pop(-1)\n",
    "                            numbers.append(new_num)\n",
    "                            new_num = 0\n",
    "                            i -= 1\n",
    "                        elif other[-1] == '+':\n",
    "                            new_num = numbers[-2] + numbers[-1]\n",
    "                            numbers.pop(-1)\n",
    "                            numbers.pop(-1)\n",
    "                            other.pop(-1)\n",
    "                            numbers.append(new_num)\n",
    "                            new_num = 0\n",
    "                            i -= 1\n",
    "                        elif other[-1] == '-':\n",
    "                            new_num = numbers[-2] - numbers[-1]\n",
    "                            numbers.pop(-1)\n",
    "                            numbers.pop(-1)\n",
    "                            other.pop(-1)\n",
    "                            numbers.append(new_num)\n",
    "                            new_num = 0\n",
    "                            i -= 1\n",
    "        if expr[i] == '(':\n",
    "            other.append(expr[i])\n",
    "        if expr[i] == ')':\n",
    "            if other[-1] == '*':\n",
    "                new_num = numbers[-2] * numbers[-1]\n",
    "                numbers.pop(-1)\n",
    "                numbers.pop(-1)\n",
    "                other.pop(-1)\n",
    "                numbers.append(new_num)\n",
    "                new_num = 0\n",
    "                i -= 1\n",
    "            elif other[-1] == '/':\n",
    "                new_num = numbers[-2] / numbers[-1]\n",
    "                numbers.pop(-1)\n",
    "                numbers.pop(-1)\n",
    "                other.pop(-1)\n",
    "                numbers.append(new_num)\n",
    "                new_num = 0\n",
    "                i -= 1\n",
    "            elif other[-1] == '+':\n",
    "                new_num = numbers[-2] + numbers[-1]\n",
    "                numbers.pop(-1)\n",
    "                numbers.pop(-1)\n",
    "                other.pop(-1)\n",
    "                numbers.append(new_num)\n",
    "                new_num = 0\n",
    "                i -= 1\n",
    "            elif other[-1] == '-':\n",
    "                new_num = numbers[-2] - numbers[-1]\n",
    "                numbers.pop(-1)\n",
    "                numbers.pop(-1)\n",
    "                other.pop(-1)\n",
    "                numbers.append(new_num)\n",
    "                new_num = 0\n",
    "                i -= 1\n",
    "            elif other[-1] == '(':\n",
    "                other.pop(-1)\n",
    "        i += 1\n",
    "    if other[-1] == '*':\n",
    "        new_num = numbers[-2] * numbers[-1]\n",
    "        numbers.pop(-1)\n",
    "        numbers.pop(-1)\n",
    "        other.pop(-1)\n",
    "        numbers.append(new_num)\n",
    "        new_num = 0\n",
    "    elif other[-1] == '/':\n",
    "        new_num = numbers[-2] / numbers[-1]\n",
    "        numbers.pop(-1)\n",
    "        numbers.pop(-1)\n",
    "        other.pop(-1)\n",
    "        numbers.append(new_num)\n",
    "        new_num = 0\n",
    "    elif other[-1] == '+':\n",
    "        new_num = numbers[-2] + numbers[-1]\n",
    "        numbers.pop(-1)\n",
    "        numbers.pop(-1)\n",
    "        other.pop(-1)\n",
    "        numbers.append(new_num)\n",
    "        new_num = 0\n",
    "    elif other[-1] == '-':\n",
    "        new_num = numbers[-2] - numbers[-1]\n",
    "        numbers.pop(-1)\n",
    "        numbers.pop(-1)\n",
    "        other.pop(-1)\n",
    "        numbers.append(new_num)\n",
    "        new_num = 0\n",
    "    return numbers[0]\n",
    "\n",
    "calc('2 * (15 - 3 * 4) - 2') == 4"
   ]
  },
  {
   "cell_type": "code",
   "execution_count": null,
   "metadata": {},
   "outputs": [],
   "source": []
  }
 ],
 "metadata": {
  "kernelspec": {
   "display_name": "Python 3",
   "language": "python",
   "name": "python3"
  },
  "language_info": {
   "codemirror_mode": {
    "name": "ipython",
    "version": 3
   },
   "file_extension": ".py",
   "mimetype": "text/x-python",
   "name": "python",
   "nbconvert_exporter": "python",
   "pygments_lexer": "ipython3",
   "version": "3.8.5"
  },
  "vscode": {
   "interpreter": {
    "hash": "916dbcbb3f70747c44a77c7bcd40155683ae19c65e1c03b4aa3499c5328201f1"
   }
  }
 },
 "nbformat": 4,
 "nbformat_minor": 4
}
